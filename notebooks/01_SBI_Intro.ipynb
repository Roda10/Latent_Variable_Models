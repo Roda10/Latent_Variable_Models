{
  "cells": [
    {
      "cell_type": "markdown",
      "metadata": {
        "id": "view-in-github",
        "colab_type": "text"
      },
      "source": [
        "<a href=\"https://colab.research.google.com/github/Roda10/Latent_Variable_Models/blob/main/notebooks/01_SBI_Intro.ipynb\" target=\"_parent\"><img src=\"https://colab.research.google.com/assets/colab-badge.svg\" alt=\"Open In Colab\"/></a>"
      ]
    },
    {
      "cell_type": "markdown",
      "metadata": {
        "id": "P2t_uVE2t_7K"
      },
      "source": [
        "[![Open In Colab](https://colab.research.google.com/assets/colab-badge.svg)](https://colab.research.google.com/github/pranavm19/SBI-Tutorial/blob/main/notebooks/01_SBI_Intro.ipynb)"
      ]
    },
    {
      "cell_type": "markdown",
      "metadata": {
        "id": "1UUkhVNJt_7N"
      },
      "source": [
        "## Intro to Simulation Based Inference (SBI)\n",
        "**Pranav Mamidanna, PhD** (p.mamidanna22@imperial.ac.uk), April 2025\n",
        "\n",
        "In many scientific and engineering problems, we have access to powerful **simulators** that can generate data $x$ that closely resemble real-world observations $x_{\\text{obs}}$. And our interest lies in the underlying parameters $\\theta$ that govern our problem of interest, often providing mechanistic or causal insight. Using **Bayesian inference**, we aim to estimate the probable values of the parameters that could have generated the observations $x_{\\text{obs}}$ we have acquired, i.e., $p(\\theta \\mid x_{\\text{obs}})$.\n",
        "\n",
        "However, if the simulator does not yield a closed-form likelihood $p(x \\mid \\theta)$, standard Bayesian tools (like MCMC) become challenging or impossible. This is known as the **likelihood-free** or **simulation-based** setting.\n",
        "\n",
        "In this notebook, we explore:\n",
        "1. How, even for a seemingly simple 2D “two-moons” simulator, deriving the exact likelihood is messy.  \n",
        "2. **Approximate Bayesian Computation (ABC)**, an approach that sidesteps the need for a closed-form likelihood by simulating data under proposed parameters and retaining those that generate data “close enough” to our observed dataset.  \n",
        "\n",
        "These ideas are a foundation for **Neural Simulation-Based Inference**, which trains neural networks to approximate posteriors or likelihoods when simulations are available but explicit probability formulas are not."
      ]
    },
    {
      "cell_type": "code",
      "execution_count": 1,
      "metadata": {
        "id": "4uaOHBjMt_7P",
        "outputId": "70b50f73-ae3d-4414-b13e-9d833840c0a8",
        "colab": {
          "base_uri": "https://localhost:8080/"
        }
      },
      "outputs": [
        {
          "output_type": "stream",
          "name": "stdout",
          "text": [
            "Collecting corner\n",
            "  Downloading corner-2.2.3-py3-none-any.whl.metadata (2.2 kB)\n",
            "Requirement already satisfied: matplotlib>=2.1 in /usr/local/lib/python3.11/dist-packages (from corner) (3.10.0)\n",
            "Requirement already satisfied: contourpy>=1.0.1 in /usr/local/lib/python3.11/dist-packages (from matplotlib>=2.1->corner) (1.3.2)\n",
            "Requirement already satisfied: cycler>=0.10 in /usr/local/lib/python3.11/dist-packages (from matplotlib>=2.1->corner) (0.12.1)\n",
            "Requirement already satisfied: fonttools>=4.22.0 in /usr/local/lib/python3.11/dist-packages (from matplotlib>=2.1->corner) (4.57.0)\n",
            "Requirement already satisfied: kiwisolver>=1.3.1 in /usr/local/lib/python3.11/dist-packages (from matplotlib>=2.1->corner) (1.4.8)\n",
            "Requirement already satisfied: numpy>=1.23 in /usr/local/lib/python3.11/dist-packages (from matplotlib>=2.1->corner) (2.0.2)\n",
            "Requirement already satisfied: packaging>=20.0 in /usr/local/lib/python3.11/dist-packages (from matplotlib>=2.1->corner) (24.2)\n",
            "Requirement already satisfied: pillow>=8 in /usr/local/lib/python3.11/dist-packages (from matplotlib>=2.1->corner) (11.1.0)\n",
            "Requirement already satisfied: pyparsing>=2.3.1 in /usr/local/lib/python3.11/dist-packages (from matplotlib>=2.1->corner) (3.2.3)\n",
            "Requirement already satisfied: python-dateutil>=2.7 in /usr/local/lib/python3.11/dist-packages (from matplotlib>=2.1->corner) (2.8.2)\n",
            "Requirement already satisfied: six>=1.5 in /usr/local/lib/python3.11/dist-packages (from python-dateutil>=2.7->matplotlib>=2.1->corner) (1.17.0)\n",
            "Downloading corner-2.2.3-py3-none-any.whl (15 kB)\n",
            "Installing collected packages: corner\n",
            "Successfully installed corner-2.2.3\n"
          ]
        }
      ],
      "source": [
        "# Uncomment the line below to ensure that your colab env has corner installed\n",
        "!python -m pip install corner"
      ]
    },
    {
      "cell_type": "code",
      "execution_count": 2,
      "metadata": {
        "id": "BB16ygzrt_7R"
      },
      "outputs": [],
      "source": [
        "import numpy as np\n",
        "from tqdm import tqdm\n",
        "import matplotlib.pyplot as plt\n",
        "from ipywidgets import interact, interact_manual, FloatSlider, IntSlider\n",
        "import corner"
      ]
    },
    {
      "cell_type": "markdown",
      "metadata": {
        "id": "UVa52Lv3t_7S"
      },
      "source": [
        "### **Two Moons** _in the Posterior_\n",
        "\n",
        "Consider the following problem - we have a simulator $\\mathbf{Sim} : \\theta \\to x$, which computes $x$ as follows:\n",
        "\n",
        "$$a \\sim Unif\\left(-\\frac{\\pi}{2}, \\frac{\\pi}{2}\\right)$$\n",
        "\n",
        "$$r \\sim Normal(0.1,0.01^2)$$\n",
        "\n",
        "$$p = (r \\cos(a) + 0.5, r \\sin(a))$$\n",
        "\n",
        "$$x^\\top = p + \\left( \\frac{-\\left| \\theta_1 + \\theta_2 \\right|}{\\sqrt{2}}, \\frac{-\\theta_1 + \\theta_2}{\\sqrt{2}} \\right)$$\n",
        "\n",
        "Which in code looks like -"
      ]
    },
    {
      "cell_type": "code",
      "execution_count": 3,
      "metadata": {
        "id": "_LGHfIS2t_7T"
      },
      "outputs": [],
      "source": [
        "def two_moons_sbi(theta, n_samples=100, sigma=0.01):\n",
        "    \"\"\"Generate a two moons posterior\"\"\"\n",
        "    alpha = np.random.uniform(-np.pi/2, np.pi/2, n_samples)\n",
        "    r = sigma * np.random.randn(n_samples) + 1\n",
        "    x_1 = r * np.cos(alpha) + 0.5 - np.abs(theta[0] + theta[1])/np.sqrt(2)\n",
        "    x_2 = r * np.sin(alpha) + (- theta[0] + theta[1])/np.sqrt(2)\n",
        "\n",
        "    x =  np.stack([x_1, x_2], axis=-1)\n",
        "\n",
        "    return x"
      ]
    },
    {
      "cell_type": "markdown",
      "metadata": {
        "id": "uc9C1VuCt_7U"
      },
      "source": [
        "And generates data that looks like below. Play around with the simulator below to get a sense of how the data looks like for different values of $\\theta$."
      ]
    },
    {
      "cell_type": "code",
      "execution_count": 4,
      "metadata": {
        "id": "sxG1xXk5t_7U",
        "outputId": "fbecd790-3d99-4556-cc7b-3ac21ae5bcb5",
        "colab": {
          "base_uri": "https://localhost:8080/",
          "height": 438,
          "referenced_widgets": [
            "2f8b8644b00845a5a8eb34d7ac44965e",
            "59e5f233d4b04cb9866826ac568382f1",
            "f8af088a0cb549a0be2a536da3751658",
            "4e844070a845496ba738feb634494faf",
            "45a38d31f2394a2a9c1f734eeb600f3b",
            "fc82a229057b494aa02df16af3f17ee7",
            "1a777f320469490b9c6a45b208d71d31",
            "4e8c0f8057d64653a2d768636a1cf20c",
            "24d355537e05482db218970af9728bc4",
            "f37369af43484d688a67139e806e8cd0"
          ]
        }
      },
      "outputs": [
        {
          "output_type": "display_data",
          "data": {
            "text/plain": [
              "interactive(children=(FloatSlider(value=0.5, description='theta1', max=2.0, min=-2.0), FloatSlider(value=-0.5,…"
            ],
            "application/vnd.jupyter.widget-view+json": {
              "version_major": 2,
              "version_minor": 0,
              "model_id": "2f8b8644b00845a5a8eb34d7ac44965e"
            }
          },
          "metadata": {}
        }
      ],
      "source": [
        "def plot_data(theta1=0.5, theta2=-0.5):\n",
        "    theta = np.array([theta1, theta2])\n",
        "    x = two_moons_sbi(theta, n_samples=200)\n",
        "\n",
        "    plt.figure(figsize=(4, 4))\n",
        "    plt.scatter(x[:, 0], x[:, 1], s=5)\n",
        "    plt.xlim(-3, 3); plt.ylim(-3, 3)\n",
        "    plt.grid(True)\n",
        "\n",
        "# Create interactive sliders\n",
        "theta1_slider = FloatSlider(value=0.5, min=-2.0, max=2.0, step=0.1, description='theta1')\n",
        "theta2_slider = FloatSlider(value=-0.5, min=-2.0, max=2.0, step=0.1, description='theta2')\n",
        "\n",
        "interact(plot_data, theta1=theta1_slider, theta2=theta2_slider);\n"
      ]
    },
    {
      "cell_type": "markdown",
      "metadata": {
        "id": "P4jqwnDYt_7W"
      },
      "source": [
        "> **Task 1.1** Where are the two moons?  \n",
        "(Hint: how does the data look like when you simulate with $\\theta$ is $(\\theta_1, \\theta_2)$, and $(-\\theta_2, -\\theta_1)$ ?)"
      ]
    },
    {
      "cell_type": "code",
      "execution_count": 7,
      "metadata": {
        "id": "wl6e9TQBt_7X",
        "outputId": "152fa16b-95d7-4e9c-d52f-bbc51ea9b503",
        "colab": {
          "base_uri": "https://localhost:8080/",
          "height": 374
        }
      },
      "outputs": [
        {
          "output_type": "display_data",
          "data": {
            "text/plain": [
              "<Figure size 400x400 with 1 Axes>"
            ],
            "image/png": "[encoded data removed]"
          },
          "metadata": {}
        }
      ],
      "source": [
        "plt.figure(figsize=[4, 4])\n",
        "# UNCOMMENT AND FILL IN THE CODE BELOW!\n",
        "plt.scatter(*two_moons_sbi([0,2]).T)\n",
        "plt.scatter(*two_moons_sbi([-2,0]).T)\n",
        "\n",
        "plt.xlim(-3, 3); plt.ylim(-3, 3)\n",
        "plt.grid(True)"
      ]
    },
    {
      "cell_type": "markdown",
      "metadata": {
        "id": "TUwFDszDt_7X"
      },
      "source": [
        "Play around with the simulator below to get a sense of the posterior distribution for a single observation here shown as a red star. By playing around with the theta you should (hopefully) uncover the two moons in the posterior!"
      ]
    },
    {
      "cell_type": "code",
      "execution_count": 8,
      "metadata": {
        "id": "QCfgqCL-t_7Y",
        "outputId": "50f7223b-6d8b-47d1-c171-4fe1e31d38dd",
        "colab": {
          "base_uri": "https://localhost:8080/",
          "height": 471,
          "referenced_widgets": [
            "703fb330f30b4e43b1502e72e79bb122",
            "51c9dd86c1d340ccbd188c9e0eef4c66",
            "a58a4856385842e2acf1866b72692118",
            "01f14703326c4b32a375ac67a0e5be0e",
            "9101fa1ebcda42d6afb6539f6d097e63",
            "c5d0ca73f1ee42e89aecdf6785d8fc69",
            "e8896cf2b8f84c53ade6c2d49bfa11e1",
            "c38921834d03437d90f75da0b9daba95",
            "ec19dfcab22348d88fb6f37d928ab0e6",
            "0c1a2cde3d7749f8840db06d1e852e8d"
          ]
        }
      },
      "outputs": [
        {
          "output_type": "display_data",
          "data": {
            "text/plain": [
              "interactive(children=(FloatSlider(value=0.5, description='theta_1', max=2.0, min=-2.0), FloatSlider(value=0.5,…"
            ],
            "application/vnd.jupyter.widget-view+json": {
              "version_major": 2,
              "version_minor": 0,
              "model_id": "703fb330f30b4e43b1502e72e79bb122"
            }
          },
          "metadata": {}
        }
      ],
      "source": [
        "# We'll define a global list to hold our \"accepted\" parameter values\n",
        "accepted_params = []\n",
        "\n",
        "def update_plots(theta1=0.0, theta2=0.0):\n",
        "    \"\"\"\n",
        "    For the given (theta1, theta2):\n",
        "    1) Generate data and plot it in the data space.\n",
        "    2) Check if x_obs is within threshold distance of any point in that data.\n",
        "       If yes, record (theta1, theta2) in a global list.\n",
        "    3) Plot the \"accepted\" parameter list so far in the parameter space.\n",
        "    \"\"\"\n",
        "    global accepted_params\n",
        "\n",
        "    x_obs = np.array([0.0, 0.0])\n",
        "    threshold = 0.2   # acceptance threshold for \"close enough\"\n",
        "    col = 'C0' # Let's change color of samples when there is a match!\n",
        "\n",
        "    # Generate data from user specified theta\n",
        "    theta = np.array([theta1, theta2])\n",
        "    x_sim = two_moons_sbi(theta, n_samples=20)\n",
        "\n",
        "    # Check if any of the points in x_sim lie close enough to x_obs\n",
        "    # We'll measure Euclidean distance from each simulated point to x_obs\n",
        "    distances = np.linalg.norm(x_sim - x_obs, axis=1)\n",
        "    if np.any(distances < threshold):\n",
        "        accepted_params.append(theta)\n",
        "        accepted_params.append(np.array([-theta2, -theta1]))\n",
        "        col='C1'\n",
        "    else:\n",
        "        col='C0'\n",
        "\n",
        "    # Plot the results\n",
        "    fig, axes = plt.subplots(1, 2, figsize=(8, 4))\n",
        "\n",
        "    # Data space\n",
        "    axes[0].scatter(*x_sim.T, color=col, alpha=0.6, label=\"Simulated data\")\n",
        "\n",
        "    # Parameter space\n",
        "    axes[1].plot(theta1, theta2, 'rx', markersize=8, label=r\"Current $\\theta$\")\n",
        "    if len(accepted_params) > 0:\n",
        "        axes[1].scatter(*np.array(accepted_params).T, alpha=0.3, label=r\"$x_{obs} \\mid \\theta$\")\n",
        "\n",
        "    # Prettify\n",
        "    axes[0].set_title('Data space')\n",
        "    axes[0].plot(0, 0, 'r*', markersize=10, label=r\"$x_{obs} = [0,0]$\")\n",
        "    axes[0].set_xlim(-3, 3); axes[0].set_ylim(-3, 3); axes[0].grid(True)\n",
        "    axes[0].legend()\n",
        "    axes[1].set_title(\"Parameter Space\")\n",
        "    axes[1].set_xlabel(r\"$\\theta_1$\"); axes[1].set_ylabel(r\"$\\theta_2$\")\n",
        "    axes[1].set_xlim(-2.0, 2.0); axes[1].set_ylim(-2.0, 2.0)\n",
        "    axes[1].legend()\n",
        "    plt.tight_layout()\n",
        "    plt.show()\n",
        "\n",
        "# Create sliders for theta1 and theta2\n",
        "theta1_slider = FloatSlider(value=0.5, min=-2.0, max=2.0, step=0.1, description='theta_1')\n",
        "theta2_slider = FloatSlider(value=0.5, min=-2.0, max=2.0, step=0.1, description='theta_2')\n",
        "\n",
        "interact(update_plots, theta1=theta1_slider, theta2=theta2_slider);"
      ]
    },
    {
      "cell_type": "markdown",
      "metadata": {
        "id": "1SwuBcCdt_7Z"
      },
      "source": [
        "Oh, btw, you basically did simulation based inference :)\n",
        "\n",
        "But let's take a step back. Given we have an observation $x_{\\text{obs}}$ from this data generating process, how can we infer the parameters $\\theta$ that could have generated it?"
      ]
    },
    {
      "cell_type": "markdown",
      "metadata": {
        "id": "h6o2qI03t_7Z"
      },
      "source": [
        "**Bonus: Can we get an exact likelihood?**\n",
        "\n",
        "Even in this simple “two-moons” simulator, the closed-form likelihood $p(x\\mid\\theta)$ is nontrivial to write down. Here’s the basic idea - our simulator draws:\n",
        "$$\n",
        "\\alpha \\sim \\mathbf{U}\\bigl(-\\tfrac{\\pi}{2}, \\tfrac{\\pi}{2}\\bigr),\n",
        "\\quad\n",
        "r \\sim \\mathbf{N}(0, \\sigma^2),\n",
        "$$\n",
        "and maps $(\\alpha, r)$ to a data point $x$ via:\n",
        "$$\n",
        "x_1 = r \\cos(\\alpha) + 0.25 - \\dfrac{|\\theta_1 + \\theta_2|}{\\sqrt{2}},\n",
        "\\quad\n",
        "x_2 = r \\sin(\\alpha) + \\dfrac{\\theta_2 - \\theta_1}{\\sqrt{2}}.\n",
        "$$\n",
        "\n",
        "This means that we can use the **change of variables formula** to go from $(\\alpha, r) \\to x$. That is, we can write the density of $x$ as\n",
        "$$\n",
        "p(x \\mid \\theta) \\propto ~ p(\\alpha) ~ p(r) ~ \\left| \\dfrac{d(\\alpha, r)}{d(x_1, x_2)} \\right|\n",
        "$$\n",
        "\n",
        "> **Optional Task 1.2:** derive a simplified expression for the likelihood.\n",
        "\n",
        "In larger or more realistic simulators (with more dimensions, complicated physics, etc.), deriving such an expression by hand may be **extremely** difficult or effectively impossible. **This** is why we turn to likelihood-free methods—like **Approximate Bayesian Computation** or **Neural Simulation-Based Inference**—which avoid having to evaluate $p(x\\mid\\theta)$ directly.\n"
      ]
    },
    {
      "cell_type": "markdown",
      "metadata": {
        "id": "tnAG9F1vt_7a"
      },
      "source": [
        "### **Approximate Bayesian Computation (ABC)**\n",
        "\n",
        "Approximate Bayesian Computation (ABC) is a class of inference methods designed for settings where the likelihood function $p(x \\mid \\theta)$ is *intractable*—but we can still **simulate** from it. The basic idea is this -- simulators let us verify _whether_ a particular $\\theta$ could have generated an observed $x_{obs}$! If we simulate _A LOT_ of $\\theta$'s, then we can use the sampled $x$'s to _infer_ the posterior distribution!\n",
        "\n",
        "**Ingredients list**\n",
        "\n",
        "- A prior distribution $p(\\theta)$: We can sample from this to generate candidate parameter values.\n",
        "- A simulator: Given $\\theta$, we simulate synthetic data $x_{\\text{sim}} \\sim p(x \\mid \\theta)$.\n",
        "- A distance function $d(x_{\\text{sim}}, x_{\\text{obs}})$: Measures how close the simulated data is to the observed data.\n",
        "- A threshold $\\varepsilon$: Determines how \"close\" is close enough.\n",
        "\n",
        "**The Basic ABC Algorithm**\n",
        "\n",
        "Repeat until you have $N$ accepted samples:\n",
        "1. Sample $\\theta^* \\sim p(\\theta)$ from the prior.\n",
        "2. Simulate $x_{\\text{sim}} \\sim p(x \\mid \\theta^*)$ using the simulator.\n",
        "3. If $d(x_{\\text{sim}}, x_{\\text{obs}}) < \\varepsilon$, accept $\\theta^*$ as a posterior sample.\n",
        "\n",
        "The collection of accepted $\\theta$ values approximates the posterior $p(\\theta \\mid x_{\\text{obs}})$."
      ]
    },
    {
      "cell_type": "markdown",
      "metadata": {
        "id": "Uw8pspQqt_7a"
      },
      "source": [
        "> **Task 1.3** Based on the algorithm above, complete the following code to run your own ABC inference."
      ]
    },
    {
      "cell_type": "code",
      "execution_count": null,
      "metadata": {
        "id": "260Qp22Yt_7a"
      },
      "outputs": [],
      "source": [
        "def abc(x_obs, eps=0.1, n_samples=1000):\n",
        "    \"\"\"ABC algorithm for two moons model.\n",
        "\n",
        "    Args:\n",
        "        x_obs (np.ndarray): Observation from the two moons model.\n",
        "        eps (float, optional): Acceptance threshold. Defaults to 0.1.\n",
        "        n_samples (int, optional): Number of samples after which to stop. Defaults to 1000.\n",
        "\n",
        "    Returns:\n",
        "        np.ndarray: Samples obtained for approximating the posterior p(theta|x_obs).\n",
        "        np.ndarray: Acceptance flag for each sample.\n",
        "    \"\"\"\n",
        "    samples = []\n",
        "    accept_flag = []\n",
        "    n_accepted = sum(accept_flag)\n",
        "    n_sim = 100 # samples to simulate each time\n",
        "\n",
        "    # Make a progress bar to see how quickly we accept\n",
        "    pbar = tqdm(total=n_samples, desc=\"Accepted Samples\", unit=\"samples\")\n",
        "\n",
        "    while sum(accept_flag) < n_samples:\n",
        "        ## TO-DO: Write the code to sample a parameter from the prior,\n",
        "        # simulate data, and compute the distance to the observed data\n",
        "\n",
        "        # Bookkeeping\n",
        "        samples.append(theta_candidate)\n",
        "\n",
        "        if np.any(dist < eps):\n",
        "            accept_flag.append(1) # bookkeeping accepted thetas\n",
        "            n_accepted += np.sum(dist < eps)\n",
        "            acceptance_ratio = n_accepted / (len(samples) * n_sim)\n",
        "            pbar.update(1)\n",
        "            pbar.set_postfix_str(f\"acceptance_ratio={acceptance_ratio:.3f}\")\n",
        "        else:\n",
        "            accept_flag.append(0)\n",
        "\n",
        "    pbar.close()\n",
        "    return np.array(samples), np.array(accept_flag)"
      ]
    },
    {
      "cell_type": "code",
      "execution_count": null,
      "metadata": {
        "id": "fsspM3BAt_7b"
      },
      "outputs": [],
      "source": [
        "# Verify this runs without any errors!\n",
        "candidates, flags = abc([0, 0])"
      ]
    },
    {
      "cell_type": "markdown",
      "metadata": {
        "id": "MFoi7Kait_7c"
      },
      "source": [
        "Let's see ABC in action! Can it compete with how you explored the parameter space previously?"
      ]
    },
    {
      "cell_type": "code",
      "execution_count": null,
      "metadata": {
        "id": "qVgKRfSnt_7c"
      },
      "outputs": [],
      "source": [
        "from IPython.display import clear_output\n",
        "global_accepted_samples = []\n",
        "\n",
        "def run_abc(n_samples=100, eps=0.1):\n",
        "    \"\"\"\n",
        "    Each time run_interact is pressed:\n",
        "    1. Run ABC to get n_samples new samples.\n",
        "    2. Display them one by one on the plot, maintaining history of all previous runs.\n",
        "    \"\"\"\n",
        "    global global_accepted_samples\n",
        "\n",
        "    # Run ABC with a single observed point [0,0]\n",
        "    samples, accept_flag = abc(np.array([0.0, 0.0]), eps, n_samples)\n",
        "\n",
        "    # Show new samples one-by-one\n",
        "    for i, sample in enumerate(samples):\n",
        "        fig, ax = plt.subplots(1, 1, figsize=(4, 4))\n",
        "\n",
        "        # First plot all previously accepted samples\n",
        "        if global_accepted_samples:\n",
        "            ax.scatter(*np.array(global_accepted_samples).T, alpha=0.6, label='Previous samples')\n",
        "\n",
        "        # Plot current sample\n",
        "        ax.plot(sample[0], sample[1], 'rx', markersize=10, label='Current sample')\n",
        "\n",
        "        # If accepted, add to plot and global list\n",
        "        if accept_flag[i] == 1:\n",
        "            global_accepted_samples.append(sample)\n",
        "            ax.scatter(sample[0], sample[1], alpha=0.6)\n",
        "\n",
        "        # Prettify\n",
        "        ax.set_xlim(-2, 2); ax.set_ylim(-2, 2)\n",
        "        ax.set_xlabel(r'$\\theta_1$'); ax.set_ylabel(r'$\\theta_2$')\n",
        "        ax.set_title(f\"ABC Posterior Samples\")\n",
        "\n",
        "        clear_output(wait=True)\n",
        "        plt.show()\n",
        "        # plt.pause(0.005)  # Small pause for visualization\n",
        "\n",
        "samples_slider = IntSlider(value=50, min=10, max=200, step=10, description='Number of samples to acquire')\n",
        "eps_slider = FloatSlider(value=0.2, min=0.1, max=1, step=0.1, description='Acceptance threshold')\n",
        "\n",
        "interact_manual(run_abc, n_samples=samples_slider, eps=eps_slider);"
      ]
    },
    {
      "cell_type": "code",
      "execution_count": null,
      "metadata": {
        "id": "-FYxtXyst_7d"
      },
      "outputs": [],
      "source": [
        "# Plot the posterior distribution using corner\n",
        "samples, accept_flag = abc([0, 0])\n",
        "figure = corner.corner(samples[accept_flag==1], labels=['theta1', 'theta2'])"
      ]
    },
    {
      "cell_type": "markdown",
      "metadata": {
        "id": "KP11UobEt_7d"
      },
      "source": [
        "> **Task 1.4 Discuss with your neighbour**\n",
        "1. How does the inference (the approximate posterior distribution) depend on the number of samples in ABC?\n",
        "2. How does changing epsilon threshold affect the posterior?\n",
        "3. Here, we have performed inference for a single observation. What happens when we have multiple $x_{obs}$? Do you think ABC scales well?"
      ]
    },
    {
      "cell_type": "code",
      "source": [
        "from google.colab import runtime\n",
        "runtime.unassign()"
      ],
      "metadata": {
        "id": "3IG16U3MuMGa"
      },
      "execution_count": null,
      "outputs": []
    },
    {
      "cell_type": "markdown",
      "metadata": {
        "id": "00ttomfWt_7d"
      },
      "source": [
        "### Outro\n",
        "\n",
        "While ABC is very simple and elegant, it can be quite inefficient in high dimensions, or when choosing the right distance metric or threshold is hard. These limitations motivate more scalable approaches like **Neural Simulation-Based Inference (Neural SBI)**, which we will cover next.\n",
        "\n",
        "Click below to open the notebook in a new window.\n",
        "\n",
        "[![Open In Colab](https://colab.research.google.com/assets/colab-badge.svg)](https://colab.research.google.com/github/pranavm19/SBI-Tutorial/blob/main/notebooks/02_NFlows.ipynb)"
      ]
    }
  ],
  "metadata": {
    "kernelspec": {
      "display_name": ".venv",
      "language": "python",
      "name": "python3"
    },
    "language_info": {
      "codemirror_mode": {
        "name": "ipython",
        "version": 3
      },
      "file_extension": ".py",
      "mimetype": "text/x-python",
      "name": "python",
      "nbconvert_exporter": "python",
      "pygments_lexer": "ipython3",
      "version": "3.10.16"
    },
    "colab": {
      "provenance": [],
      "include_colab_link": true
    },
    "widgets": {
      "application/vnd.jupyter.widget-state+json": {
        "2f8b8644b00845a5a8eb34d7ac44965e": {
          "model_module": "@jupyter-widgets/controls",
          "model_name": "VBoxModel",
          "model_module_version": "1.5.0",
          "state": {
            "_dom_classes": [
              "widget-interact"
            ],
            "_model_module": "@jupyter-widgets/controls",
            "_model_module_version": "1.5.0",
            "_model_name": "VBoxModel",
            "_view_count": null,
            "_view_module": "@jupyter-widgets/controls",
            "_view_module_version": "1.5.0",
            "_view_name": "VBoxView",
            "box_style": "",
            "children": [
              "IPY_MODEL_59e5f233d4b04cb9866826ac568382f1",
              "IPY_MODEL_f8af088a0cb549a0be2a536da3751658",
              "IPY_MODEL_4e844070a845496ba738feb634494faf"
            ],
            "layout": "IPY_MODEL_45a38d31f2394a2a9c1f734eeb600f3b"
          }
        },
        "59e5f233d4b04cb9866826ac568382f1": {
          "model_module": "@jupyter-widgets/controls",
          "model_name": "FloatSliderModel",
          "model_module_version": "1.5.0",
          "state": {
            "_dom_classes": [],
            "_model_module": "@jupyter-widgets/controls",
            "_model_module_version": "1.5.0",
            "_model_name": "FloatSliderModel",
            "_view_count": null,
            "_view_module": "@jupyter-widgets/controls",
            "_view_module_version": "1.5.0",
            "_view_name": "FloatSliderView",
            "continuous_update": true,
            "description": "theta1",
            "description_tooltip": null,
            "disabled": false,
            "layout": "IPY_MODEL_fc82a229057b494aa02df16af3f17ee7",
            "max": 2,
            "min": -2,
            "orientation": "horizontal",
            "readout": true,
            "readout_format": ".2f",
            "step": 0.1,
            "style": "IPY_MODEL_1a777f320469490b9c6a45b208d71d31",
            "value": -0.7
          }
        },
        "f8af088a0cb549a0be2a536da3751658": {
          "model_module": "@jupyter-widgets/controls",
          "model_name": "FloatSliderModel",
          "model_module_version": "1.5.0",
          "state": {
            "_dom_classes": [],
            "_model_module": "@jupyter-widgets/controls",
            "_model_module_version": "1.5.0",
            "_model_name": "FloatSliderModel",
            "_view_count": null,
            "_view_module": "@jupyter-widgets/controls",
            "_view_module_version": "1.5.0",
            "_view_name": "FloatSliderView",
            "continuous_update": true,
            "description": "theta2",
            "description_tooltip": null,
            "disabled": false,
            "layout": "IPY_MODEL_4e8c0f8057d64653a2d768636a1cf20c",
            "max": 2,
            "min": -2,
            "orientation": "horizontal",
            "readout": true,
            "readout_format": ".2f",
            "step": 0.1,
            "style": "IPY_MODEL_24d355537e05482db218970af9728bc4",
            "value": 0.1
          }
        },
        "4e844070a845496ba738feb634494faf": {
          "model_module": "@jupyter-widgets/output",
          "model_name": "OutputModel",
          "model_module_version": "1.0.0",
          "state": {
            "_dom_classes": [],
            "_model_module": "@jupyter-widgets/output",
            "_model_module_version": "1.0.0",
            "_model_name": "OutputModel",
            "_view_count": null,
            "_view_module": "@jupyter-widgets/output",
            "_view_module_version": "1.0.0",
            "_view_name": "OutputView",
            "layout": "IPY_MODEL_f37369af43484d688a67139e806e8cd0",
            "msg_id": "",
            "outputs": [
              {
                "output_type": "display_data",
                "data": {
                  "text/plain": "<Figure size 400x400 with 1 Axes>",
                  "image/png": "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\n"
                },
                "metadata": {}
              }
            ]
          }
        },
        "45a38d31f2394a2a9c1f734eeb600f3b": {
          "model_module": "@jupyter-widgets/base",
          "model_name": "LayoutModel",
          "model_module_version": "1.2.0",
          "state": {
            "_model_module": "@jupyter-widgets/base",
            "_model_module_version": "1.2.0",
            "_model_name": "LayoutModel",
            "_view_count": null,
            "_view_module": "@jupyter-widgets/base",
            "_view_module_version": "1.2.0",
            "_view_name": "LayoutView",
            "align_content": null,
            "align_items": null,
            "align_self": null,
            "border": null,
            "bottom": null,
            "display": null,
            "flex": null,
            "flex_flow": null,
            "grid_area": null,
            "grid_auto_columns": null,
            "grid_auto_flow": null,
            "grid_auto_rows": null,
            "grid_column": null,
            "grid_gap": null,
            "grid_row": null,
            "grid_template_areas": null,
            "grid_template_columns": null,
            "grid_template_rows": null,
            "height": null,
            "justify_content": null,
            "justify_items": null,
            "left": null,
            "margin": null,
            "max_height": null,
            "max_width": null,
            "min_height": null,
            "min_width": null,
            "object_fit": null,
            "object_position": null,
            "order": null,
            "overflow": null,
            "overflow_x": null,
            "overflow_y": null,
            "padding": null,
            "right": null,
            "top": null,
            "visibility": null,
            "width": null
          }
        },
        "fc82a229057b494aa02df16af3f17ee7": {
          "model_module": "@jupyter-widgets/base",
          "model_name": "LayoutModel",
          "model_module_version": "1.2.0",
          "state": {
            "_model_module": "@jupyter-widgets/base",
            "_model_module_version": "1.2.0",
            "_model_name": "LayoutModel",
            "_view_count": null,
            "_view_module": "@jupyter-widgets/base",
            "_view_module_version": "1.2.0",
            "_view_name": "LayoutView",
            "align_content": null,
            "align_items": null,
            "align_self": null,
            "border": null,
            "bottom": null,
            "display": null,
            "flex": null,
            "flex_flow": null,
            "grid_area": null,
            "grid_auto_columns": null,
            "grid_auto_flow": null,
            "grid_auto_rows": null,
            "grid_column": null,
            "grid_gap": null,
            "grid_row": null,
            "grid_template_areas": null,
            "grid_template_columns": null,
            "grid_template_rows": null,
            "height": null,
            "justify_content": null,
            "justify_items": null,
            "left": null,
            "margin": null,
            "max_height": null,
            "max_width": null,
            "min_height": null,
            "min_width": null,
            "object_fit": null,
            "object_position": null,
            "order": null,
            "overflow": null,
            "overflow_x": null,
            "overflow_y": null,
            "padding": null,
            "right": null,
            "top": null,
            "visibility": null,
            "width": null
          }
        },
        "1a777f320469490b9c6a45b208d71d31": {
          "model_module": "@jupyter-widgets/controls",
          "model_name": "SliderStyleModel",
          "model_module_version": "1.5.0",
          "state": {
            "_model_module": "@jupyter-widgets/controls",
            "_model_module_version": "1.5.0",
            "_model_name": "SliderStyleModel",
            "_view_count": null,
            "_view_module": "@jupyter-widgets/base",
            "_view_module_version": "1.2.0",
            "_view_name": "StyleView",
            "description_width": "",
            "handle_color": null
          }
        },
        "4e8c0f8057d64653a2d768636a1cf20c": {
          "model_module": "@jupyter-widgets/base",
          "model_name": "LayoutModel",
          "model_module_version": "1.2.0",
          "state": {
            "_model_module": "@jupyter-widgets/base",
            "_model_module_version": "1.2.0",
            "_model_name": "LayoutModel",
            "_view_count": null,
            "_view_module": "@jupyter-widgets/base",
            "_view_module_version": "1.2.0",
            "_view_name": "LayoutView",
            "align_content": null,
            "align_items": null,
            "align_self": null,
            "border": null,
            "bottom": null,
            "display": null,
            "flex": null,
            "flex_flow": null,
            "grid_area": null,
            "grid_auto_columns": null,
            "grid_auto_flow": null,
            "grid_auto_rows": null,
            "grid_column": null,
            "grid_gap": null,
            "grid_row": null,
            "grid_template_areas": null,
            "grid_template_columns": null,
            "grid_template_rows": null,
            "height": null,
            "justify_content": null,
            "justify_items": null,
            "left": null,
            "margin": null,
            "max_height": null,
            "max_width": null,
            "min_height": null,
            "min_width": null,
            "object_fit": null,
            "object_position": null,
            "order": null,
            "overflow": null,
            "overflow_x": null,
            "overflow_y": null,
            "padding": null,
            "right": null,
            "top": null,
            "visibility": null,
            "width": null
          }
        },
        "24d355537e05482db218970af9728bc4": {
          "model_module": "@jupyter-widgets/controls",
          "model_name": "SliderStyleModel",
          "model_module_version": "1.5.0",
          "state": {
            "_model_module": "@jupyter-widgets/controls",
            "_model_module_version": "1.5.0",
            "_model_name": "SliderStyleModel",
            "_view_count": null,
            "_view_module": "@jupyter-widgets/base",
            "_view_module_version": "1.2.0",
            "_view_name": "StyleView",
            "description_width": "",
            "handle_color": null
          }
        },
        "f37369af43484d688a67139e806e8cd0": {
          "model_module": "@jupyter-widgets/base",
          "model_name": "LayoutModel",
          "model_module_version": "1.2.0",
          "state": {
            "_model_module": "@jupyter-widgets/base",
            "_model_module_version": "1.2.0",
            "_model_name": "LayoutModel",
            "_view_count": null,
            "_view_module": "@jupyter-widgets/base",
            "_view_module_version": "1.2.0",
            "_view_name": "LayoutView",
            "align_content": null,
            "align_items": null,
            "align_self": null,
            "border": null,
            "bottom": null,
            "display": null,
            "flex": null,
            "flex_flow": null,
            "grid_area": null,
            "grid_auto_columns": null,
            "grid_auto_flow": null,
            "grid_auto_rows": null,
            "grid_column": null,
            "grid_gap": null,
            "grid_row": null,
            "grid_template_areas": null,
            "grid_template_columns": null,
            "grid_template_rows": null,
            "height": null,
            "justify_content": null,
            "justify_items": null,
            "left": null,
            "margin": null,
            "max_height": null,
            "max_width": null,
            "min_height": null,
            "min_width": null,
            "object_fit": null,
            "object_position": null,
            "order": null,
            "overflow": null,
            "overflow_x": null,
            "overflow_y": null,
            "padding": null,
            "right": null,
            "top": null,
            "visibility": null,
            "width": null
          }
        },
        "703fb330f30b4e43b1502e72e79bb122": {
          "model_module": "@jupyter-widgets/controls",
          "model_name": "VBoxModel",
          "model_module_version": "1.5.0",
          "state": {
            "_dom_classes": [
              "widget-interact"
            ],
            "_model_module": "@jupyter-widgets/controls",
            "_model_module_version": "1.5.0",
            "_model_name": "VBoxModel",
            "_view_count": null,
            "_view_module": "@jupyter-widgets/controls",
            "_view_module_version": "1.5.0",
            "_view_name": "VBoxView",
            "box_style": "",
            "children": [
              "IPY_MODEL_51c9dd86c1d340ccbd188c9e0eef4c66",
              "IPY_MODEL_a58a4856385842e2acf1866b72692118",
              "IPY_MODEL_01f14703326c4b32a375ac67a0e5be0e"
            ],
            "layout": "IPY_MODEL_9101fa1ebcda42d6afb6539f6d097e63"
          }
        },
        "51c9dd86c1d340ccbd188c9e0eef4c66": {
          "model_module": "@jupyter-widgets/controls",
          "model_name": "FloatSliderModel",
          "model_module_version": "1.5.0",
          "state": {
            "_dom_classes": [],
            "_model_module": "@jupyter-widgets/controls",
            "_model_module_version": "1.5.0",
            "_model_name": "FloatSliderModel",
            "_view_count": null,
            "_view_module": "@jupyter-widgets/controls",
            "_view_module_version": "1.5.0",
            "_view_name": "FloatSliderView",
            "continuous_update": true,
            "description": "theta_1",
            "description_tooltip": null,
            "disabled": false,
            "layout": "IPY_MODEL_c5d0ca73f1ee42e89aecdf6785d8fc69",
            "max": 2,
            "min": -2,
            "orientation": "horizontal",
            "readout": true,
            "readout_format": ".2f",
            "step": 0.1,
            "style": "IPY_MODEL_e8896cf2b8f84c53ade6c2d49bfa11e1",
            "value": 2
          }
        },
        "a58a4856385842e2acf1866b72692118": {
          "model_module": "@jupyter-widgets/controls",
          "model_name": "FloatSliderModel",
          "model_module_version": "1.5.0",
          "state": {
            "_dom_classes": [],
            "_model_module": "@jupyter-widgets/controls",
            "_model_module_version": "1.5.0",
            "_model_name": "FloatSliderModel",
            "_view_count": null,
            "_view_module": "@jupyter-widgets/controls",
            "_view_module_version": "1.5.0",
            "_view_name": "FloatSliderView",
            "continuous_update": true,
            "description": "theta_2",
            "description_tooltip": null,
            "disabled": false,
            "layout": "IPY_MODEL_c38921834d03437d90f75da0b9daba95",
            "max": 2,
            "min": -2,
            "orientation": "horizontal",
            "readout": true,
            "readout_format": ".2f",
            "step": 0.1,
            "style": "IPY_MODEL_ec19dfcab22348d88fb6f37d928ab0e6",
            "value": -2
          }
        },
        "01f14703326c4b32a375ac67a0e5be0e": {
          "model_module": "@jupyter-widgets/output",
          "model_name": "OutputModel",
          "model_module_version": "1.0.0",
          "state": {
            "_dom_classes": [],
            "_model_module": "@jupyter-widgets/output",
            "_model_module_version": "1.0.0",
            "_model_name": "OutputModel",
            "_view_count": null,
            "_view_module": "@jupyter-widgets/output",
            "_view_module_version": "1.0.0",
            "_view_name": "OutputView",
            "layout": "IPY_MODEL_0c1a2cde3d7749f8840db06d1e852e8d",
            "msg_id": "",
            "outputs": [
              {
                "output_type": "display_data",
                "data": {
                  "text/plain": "<Figure size 800x400 with 2 Axes>",
                  "image/png": "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\n"
                },
                "metadata": {}
              }
            ]
          }
        },
        "9101fa1ebcda42d6afb6539f6d097e63": {
          "model_module": "@jupyter-widgets/base",
          "model_name": "LayoutModel",
          "model_module_version": "1.2.0",
          "state": {
            "_model_module": "@jupyter-widgets/base",
            "_model_module_version": "1.2.0",
            "_model_name": "LayoutModel",
            "_view_count": null,
            "_view_module": "@jupyter-widgets/base",
            "_view_module_version": "1.2.0",
            "_view_name": "LayoutView",
            "align_content": null,
            "align_items": null,
            "align_self": null,
            "border": null,
            "bottom": null,
            "display": null,
            "flex": null,
            "flex_flow": null,
            "grid_area": null,
            "grid_auto_columns": null,
            "grid_auto_flow": null,
            "grid_auto_rows": null,
            "grid_column": null,
            "grid_gap": null,
            "grid_row": null,
            "grid_template_areas": null,
            "grid_template_columns": null,
            "grid_template_rows": null,
            "height": null,
            "justify_content": null,
            "justify_items": null,
            "left": null,
            "margin": null,
            "max_height": null,
            "max_width": null,
            "min_height": null,
            "min_width": null,
            "object_fit": null,
            "object_position": null,
            "order": null,
            "overflow": null,
            "overflow_x": null,
            "overflow_y": null,
            "padding": null,
            "right": null,
            "top": null,
            "visibility": null,
            "width": null
          }
        },
        "c5d0ca73f1ee42e89aecdf6785d8fc69": {
          "model_module": "@jupyter-widgets/base",
          "model_name": "LayoutModel",
          "model_module_version": "1.2.0",
          "state": {
            "_model_module": "@jupyter-widgets/base",
            "_model_module_version": "1.2.0",
            "_model_name": "LayoutModel",
            "_view_count": null,
            "_view_module": "@jupyter-widgets/base",
            "_view_module_version": "1.2.0",
            "_view_name": "LayoutView",
            "align_content": null,
            "align_items": null,
            "align_self": null,
            "border": null,
            "bottom": null,
            "display": null,
            "flex": null,
            "flex_flow": null,
            "grid_area": null,
            "grid_auto_columns": null,
            "grid_auto_flow": null,
            "grid_auto_rows": null,
            "grid_column": null,
            "grid_gap": null,
            "grid_row": null,
            "grid_template_areas": null,
            "grid_template_columns": null,
            "grid_template_rows": null,
            "height": null,
            "justify_content": null,
            "justify_items": null,
            "left": null,
            "margin": null,
            "max_height": null,
            "max_width": null,
            "min_height": null,
            "min_width": null,
            "object_fit": null,
            "object_position": null,
            "order": null,
            "overflow": null,
            "overflow_x": null,
            "overflow_y": null,
            "padding": null,
            "right": null,
            "top": null,
            "visibility": null,
            "width": null
          }
        },
        "e8896cf2b8f84c53ade6c2d49bfa11e1": {
          "model_module": "@jupyter-widgets/controls",
          "model_name": "SliderStyleModel",
          "model_module_version": "1.5.0",
          "state": {
            "_model_module": "@jupyter-widgets/controls",
            "_model_module_version": "1.5.0",
            "_model_name": "SliderStyleModel",
            "_view_count": null,
            "_view_module": "@jupyter-widgets/base",
            "_view_module_version": "1.2.0",
            "_view_name": "StyleView",
            "description_width": "",
            "handle_color": null
          }
        },
        "c38921834d03437d90f75da0b9daba95": {
          "model_module": "@jupyter-widgets/base",
          "model_name": "LayoutModel",
          "model_module_version": "1.2.0",
          "state": {
            "_model_module": "@jupyter-widgets/base",
            "_model_module_version": "1.2.0",
            "_model_name": "LayoutModel",
            "_view_count": null,
            "_view_module": "@jupyter-widgets/base",
            "_view_module_version": "1.2.0",
            "_view_name": "LayoutView",
            "align_content": null,
            "align_items": null,
            "align_self": null,
            "border": null,
            "bottom": null,
            "display": null,
            "flex": null,
            "flex_flow": null,
            "grid_area": null,
            "grid_auto_columns": null,
            "grid_auto_flow": null,
            "grid_auto_rows": null,
            "grid_column": null,
            "grid_gap": null,
            "grid_row": null,
            "grid_template_areas": null,
            "grid_template_columns": null,
            "grid_template_rows": null,
            "height": null,
            "justify_content": null,
            "justify_items": null,
            "left": null,
            "margin": null,
            "max_height": null,
            "max_width": null,
            "min_height": null,
            "min_width": null,
            "object_fit": null,
            "object_position": null,
            "order": null,
            "overflow": null,
            "overflow_x": null,
            "overflow_y": null,
            "padding": null,
            "right": null,
            "top": null,
            "visibility": null,
            "width": null
          }
        },
        "ec19dfcab22348d88fb6f37d928ab0e6": {
          "model_module": "@jupyter-widgets/controls",
          "model_name": "SliderStyleModel",
          "model_module_version": "1.5.0",
          "state": {
            "_model_module": "@jupyter-widgets/controls",
            "_model_module_version": "1.5.0",
            "_model_name": "SliderStyleModel",
            "_view_count": null,
            "_view_module": "@jupyter-widgets/base",
            "_view_module_version": "1.2.0",
            "_view_name": "StyleView",
            "description_width": "",
            "handle_color": null
          }
        },
        "0c1a2cde3d7749f8840db06d1e852e8d": {
          "model_module": "@jupyter-widgets/base",
          "model_name": "LayoutModel",
          "model_module_version": "1.2.0",
          "state": {
            "_model_module": "@jupyter-widgets/base",
            "_model_module_version": "1.2.0",
            "_model_name": "LayoutModel",
            "_view_count": null,
            "_view_module": "@jupyter-widgets/base",
            "_view_module_version": "1.2.0",
            "_view_name": "LayoutView",
            "align_content": null,
            "align_items": null,
            "align_self": null,
            "border": null,
            "bottom": null,
            "display": null,
            "flex": null,
            "flex_flow": null,
            "grid_area": null,
            "grid_auto_columns": null,
            "grid_auto_flow": null,
            "grid_auto_rows": null,
            "grid_column": null,
            "grid_gap": null,
            "grid_row": null,
            "grid_template_areas": null,
            "grid_template_columns": null,
            "grid_template_rows": null,
            "height": null,
            "justify_content": null,
            "justify_items": null,
            "left": null,
            "margin": null,
            "max_height": null,
            "max_width": null,
            "min_height": null,
            "min_width": null,
            "object_fit": null,
            "object_position": null,
            "order": null,
            "overflow": null,
            "overflow_x": null,
            "overflow_y": null,
            "padding": null,
            "right": null,
            "top": null,
            "visibility": null,
            "width": null
          }
        }
      }
    }
  },
  "nbformat": 4,
  "nbformat_minor": 0
}